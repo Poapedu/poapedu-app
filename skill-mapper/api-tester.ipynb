{
 "cells": [
  {
   "cell_type": "code",
   "execution_count": 1,
   "id": "22226e34-1030-40e7-a5ee-9192107b643d",
   "metadata": {},
   "outputs": [],
   "source": [
    "import requests"
   ]
  },
  {
   "cell_type": "code",
   "execution_count": 55,
   "id": "77b6083f-222c-406a-b1ac-50a8429fc089",
   "metadata": {},
   "outputs": [],
   "source": [
    "course_data = {\n",
    "    \"title\": \"Introduction to Data Science\",\n",
    "    \"information\": \"\"\"The recipient has successfully completed an intermediate UpLevel project. In this project, the recipient performed the following over a period of 10-12 hours:\n",
    "\n",
    "1. Retrieved and clean bike sharing data\n",
    "2. Performed exploratory data analysis on features in the dataset\n",
    "3. Engineered new features rationally\n",
    "4. Trained a machine learning model to predict the bike usage volume on a particular day\"\"\",\n",
    "    \"webhook_url\": \"https://webhook-test.com/749919f20e809b4ae5e18dad2f4154d5\"\n",
    "}"
   ]
  },
  {
   "cell_type": "code",
   "execution_count": 56,
   "id": "a165b99b-3b6a-4b99-bc81-3ff30bd12455",
   "metadata": {},
   "outputs": [],
   "source": [
    "res = requests.post(\"http://127.0.0.1:8000/process-course/\", json=course_data)"
   ]
  },
  {
   "cell_type": "code",
   "execution_count": 57,
   "id": "685e2763-c792-443b-88d8-6a0492785f4b",
   "metadata": {},
   "outputs": [
    {
     "data": {
      "text/plain": [
       "{'message': 'Skills processed and sent to the webhook successfully'}"
      ]
     },
     "execution_count": 57,
     "metadata": {},
     "output_type": "execute_result"
    }
   ],
   "source": [
    "res.json()"
   ]
  },
  {
   "cell_type": "code",
   "execution_count": 58,
   "id": "bff52f18-7a85-47f1-b164-7144dfa9791d",
   "metadata": {},
   "outputs": [
    {
     "name": "stdout",
     "output_type": "stream",
     "text": [
      "{\n",
      "  \"skills\": [\n",
      "    \"{\n",
      "    \"skills\": [\n",
      "        \"data manipulation\",\n",
      "        \"text analysis\",\n",
      "        \"feature engineering\",\n",
      "        \"machine learning\",\n",
      "        \"natural language processing\",\n",
      "        \"sentiment analysis\"\n",
      "    ]\n",
      "}\"\n",
      "  ]\n",
      "}\n"
     ]
    }
   ],
   "source": [
    "print(\"\"\"{\n",
    "  \"skills\": [\n",
    "    \"{\\n    \\\"skills\\\": [\\n        \\\"data manipulation\\\",\\n        \\\"text analysis\\\",\\n        \\\"feature engineering\\\",\\n        \\\"machine learning\\\",\\n        \\\"natural language processing\\\",\\n        \\\"sentiment analysis\\\"\\n    ]\\n}\"\n",
    "  ]\n",
    "}\"\"\")"
   ]
  },
  {
   "cell_type": "code",
   "execution_count": 60,
   "id": "d4173ced-9d36-4728-b660-371b4ae579b2",
   "metadata": {},
   "outputs": [
    {
     "name": "stdout",
     "output_type": "stream",
     "text": [
      "{\n",
      "  \"skills\": [\n",
      "    \"{\n",
      "  \"skills\": [\n",
      "    \"data retrieval\",\n",
      "    \"data cleaning\",\n",
      "    \"exploratory data analysis\",\n",
      "    \"feature engineering\",\n",
      "    \"machine learning model training\",\n",
      "    \"predictive analytics\"\n",
      "  ]\n",
      "}\"\n",
      "  ]\n",
      "}\n"
     ]
    }
   ],
   "source": [
    "print(\"\"\"{\n",
    "  \"skills\": [\n",
    "    \"{\\n  \\\"skills\\\": [\\n    \\\"data retrieval\\\",\\n    \\\"data cleaning\\\",\\n    \\\"exploratory data analysis\\\",\\n    \\\"feature engineering\\\",\\n    \\\"machine learning model training\\\",\\n    \\\"predictive analytics\\\"\\n  ]\\n}\"\n",
    "  ]\n",
    "}\"\"\")"
   ]
  },
  {
   "cell_type": "code",
   "execution_count": null,
   "id": "b6fc2dd9-eb33-4d42-9857-8233d650044c",
   "metadata": {},
   "outputs": [],
   "source": []
  }
 ],
 "metadata": {
  "kernelspec": {
   "display_name": "Python 3 (ipykernel)",
   "language": "python",
   "name": "python3"
  },
  "language_info": {
   "codemirror_mode": {
    "name": "ipython",
    "version": 3
   },
   "file_extension": ".py",
   "mimetype": "text/x-python",
   "name": "python",
   "nbconvert_exporter": "python",
   "pygments_lexer": "ipython3",
   "version": "3.11.5"
  }
 },
 "nbformat": 4,
 "nbformat_minor": 5
}
